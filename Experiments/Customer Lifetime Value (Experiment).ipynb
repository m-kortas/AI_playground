{
 "cells": [
  {
   "cell_type": "markdown",
   "metadata": {},
   "source": [
    "### Impact and value of manual elevations - analysis & recommendation"
   ]
  },
  {
   "cell_type": "markdown",
   "metadata": {},
   "source": [
    "In this analysis I am trying to understand the impact and value of manual elevations, especially if they increase customer lifetime value."
   ]
  },
  {
   "cell_type": "markdown",
   "metadata": {},
   "source": [
    "For our test we have **two groups**:\n",
    "* A `treatment` (or experimental) group - Both automated and manual elevations were applied, with manual elevations taking priority\n",
    "* B `control` group - Only automated elevations were applied to search results. Results purely based on the similarity of image metadata with the user query string. The automated elevations mechanism calculates at most 50 elevations per query.\n",
    "\n",
    "For our *Dependent Variable* (i.e. what we are trying to measure), we are interested in capturing the `conversion rate` - number of licenses bought."
   ]
  },
  {
   "cell_type": "code",
   "execution_count": 1,
   "metadata": {},
   "outputs": [],
   "source": [
    "# Packages imports\n",
    "import numpy as np\n",
    "import pandas as pd\n",
    "import scipy.stats as stats\n",
    "import statsmodels.stats.api as sms\n",
    "import matplotlib as mpl\n",
    "import matplotlib.pyplot as plt\n",
    "import seaborn as sns\n",
    "from statsmodels.stats.proportion import proportions_ztest, proportion_confint\n",
    "from math import ceil\n",
    "\n",
    "%matplotlib inline\n",
    "\n",
    "# Some plot styling preferences\n",
    "plt.style.use('seaborn-whitegrid')\n",
    "font = {'family' : 'Helvetica',\n",
    "        'weight' : 'bold',\n",
    "        'size'   : 14}\n",
    "\n",
    "mpl.rc('font', **font)"
   ]
  },
  {
   "cell_type": "code",
   "execution_count": 2,
   "metadata": {},
   "outputs": [],
   "source": [
    "def show_stats(column):\n",
    "    agg = ab_test.groupby(column).agg(count_searches=('search_id',np.size),\n",
    "                                                             sum_elevations = ('num_elevations',np.sum), \n",
    "                                                             sum_all_clicks = ('num_clicks',np.sum),\n",
    "                                                             sum_all_exports = ('num_exported_results',np.sum),\n",
    "                                                             sum_all_licenses = ('num_licenses',np.sum))\n",
    "    agg['click_rate'] = (agg['sum_all_clicks'] / agg['count_searches'])\n",
    "    agg['export_rate'] = (agg['sum_all_exports'] / agg['count_searches'])\n",
    "    agg['license_rate'] = (agg['sum_all_licenses'] / agg['count_searches'])\n",
    "    agg = agg[['click_rate', 'export_rate', 'license_rate']]\n",
    "    print(agg.sort_values(by='license_rate',ascending=False).head(10))"
   ]
  },
  {
   "cell_type": "markdown",
   "metadata": {},
   "source": [
    "## Read Data"
   ]
  },
  {
   "cell_type": "code",
   "execution_count": 3,
   "metadata": {},
   "outputs": [
    {
     "data": {
      "text/html": [
       "<div>\n",
       "<style scoped>\n",
       "    .dataframe tbody tr th:only-of-type {\n",
       "        vertical-align: middle;\n",
       "    }\n",
       "\n",
       "    .dataframe tbody tr th {\n",
       "        vertical-align: top;\n",
       "    }\n",
       "\n",
       "    .dataframe thead th {\n",
       "        text-align: right;\n",
       "    }\n",
       "</style>\n",
       "<table border=\"1\" class=\"dataframe\">\n",
       "  <thead>\n",
       "    <tr style=\"text-align: right;\">\n",
       "      <th></th>\n",
       "      <th>experiment_day</th>\n",
       "      <th>search_id</th>\n",
       "      <th>user_id</th>\n",
       "      <th>experiment_group</th>\n",
       "      <th>user_tier</th>\n",
       "      <th>query</th>\n",
       "      <th>media_types</th>\n",
       "      <th>num_elevations</th>\n",
       "      <th>num_clicks</th>\n",
       "      <th>num_exported_results</th>\n",
       "      <th>num_licenses</th>\n",
       "    </tr>\n",
       "  </thead>\n",
       "  <tbody>\n",
       "    <tr>\n",
       "      <th>0</th>\n",
       "      <td>65</td>\n",
       "      <td>AOGFabmo</td>\n",
       "      <td>51b2325a</td>\n",
       "      <td>B</td>\n",
       "      <td>free</td>\n",
       "      <td>speech bubble</td>\n",
       "      <td>RV</td>\n",
       "      <td>0</td>\n",
       "      <td>1</td>\n",
       "      <td>0</td>\n",
       "      <td>0</td>\n",
       "    </tr>\n",
       "    <tr>\n",
       "      <th>1</th>\n",
       "      <td>65</td>\n",
       "      <td>AIT27lH-</td>\n",
       "      <td>97c2ab50</td>\n",
       "      <td>A</td>\n",
       "      <td>paid</td>\n",
       "      <td>line</td>\n",
       "      <td>RV</td>\n",
       "      <td>80</td>\n",
       "      <td>2</td>\n",
       "      <td>1</td>\n",
       "      <td>0</td>\n",
       "    </tr>\n",
       "    <tr>\n",
       "      <th>2</th>\n",
       "      <td>65</td>\n",
       "      <td>AMgr6dQc</td>\n",
       "      <td>d626988c</td>\n",
       "      <td>B</td>\n",
       "      <td>free</td>\n",
       "      <td>button</td>\n",
       "      <td>RV</td>\n",
       "      <td>0</td>\n",
       "      <td>1</td>\n",
       "      <td>0</td>\n",
       "      <td>0</td>\n",
       "    </tr>\n",
       "    <tr>\n",
       "      <th>3</th>\n",
       "      <td>65</td>\n",
       "      <td>WKgECNwN</td>\n",
       "      <td>8bcaf483</td>\n",
       "      <td>B</td>\n",
       "      <td>free</td>\n",
       "      <td>apple</td>\n",
       "      <td>RV</td>\n",
       "      <td>0</td>\n",
       "      <td>0</td>\n",
       "      <td>0</td>\n",
       "      <td>0</td>\n",
       "    </tr>\n",
       "    <tr>\n",
       "      <th>4</th>\n",
       "      <td>65</td>\n",
       "      <td>dzdr0OMT</td>\n",
       "      <td>ca240171</td>\n",
       "      <td>A</td>\n",
       "      <td>paid</td>\n",
       "      <td>banner</td>\n",
       "      <td>RV</td>\n",
       "      <td>80</td>\n",
       "      <td>1</td>\n",
       "      <td>1</td>\n",
       "      <td>0</td>\n",
       "    </tr>\n",
       "  </tbody>\n",
       "</table>\n",
       "</div>"
      ],
      "text/plain": [
       "   experiment_day search_id   user_id experiment_group user_tier  \\\n",
       "0              65  AOGFabmo  51b2325a                B      free   \n",
       "1              65  AIT27lH-  97c2ab50                A      paid   \n",
       "2              65  AMgr6dQc  d626988c                B      free   \n",
       "3              65  WKgECNwN  8bcaf483                B      free   \n",
       "4              65  dzdr0OMT  ca240171                A      paid   \n",
       "\n",
       "           query media_types  num_elevations  num_clicks  \\\n",
       "0  speech bubble          RV               0           1   \n",
       "1           line          RV              80           2   \n",
       "2         button          RV               0           1   \n",
       "3          apple          RV               0           0   \n",
       "4         banner          RV              80           1   \n",
       "\n",
       "   num_exported_results  num_licenses  \n",
       "0                     0             0  \n",
       "1                     1             0  \n",
       "2                     0             0  \n",
       "3                     0             0  \n",
       "4                     1             0  "
      ]
     },
     "execution_count": 3,
     "metadata": {},
     "output_type": "execute_result"
    }
   ],
   "source": [
    "df = pd.read_csv('manual_elevations_experiment_data.csv')\n",
    "\n",
    "df.head()"
   ]
  },
  {
   "cell_type": "markdown",
   "metadata": {},
   "source": [
    "## Data Cleaning"
   ]
  },
  {
   "cell_type": "code",
   "execution_count": 4,
   "metadata": {},
   "outputs": [],
   "source": [
    "df = df.drop_duplicates(subset='search_id') #deleting two duplicated search_id's. A bug?\n",
    "df = df[df['experiment_group']!='S'] #keeping only A&B groups"
   ]
  },
  {
   "cell_type": "code",
   "execution_count": 5,
   "metadata": {},
   "outputs": [],
   "source": [
    "df['experiment_group'] = df['experiment_group'].replace('A','treatment')\n",
    "df['experiment_group'] = df['experiment_group'].replace('B','control')"
   ]
  },
  {
   "cell_type": "code",
   "execution_count": 6,
   "metadata": {},
   "outputs": [
    {
     "name": "stderr",
     "output_type": "stream",
     "text": [
      "/var/folders/7h/jhtspggj63166rh3c9ysbdnm0000gn/T/ipykernel_80458/2118327935.py:1: UserWarning: Boolean Series key will be reindexed to match DataFrame index.\n",
      "  control_sample = df[df['experiment_group'] == 'control'][df['num_elevations']==0]\n"
     ]
    }
   ],
   "source": [
    "control_sample = df[df['experiment_group'] == 'control'][df['num_elevations']==0]\n",
    "#deleting dirty data\n",
    "treatment_sample = df[df['experiment_group'] == 'treatment']\n",
    "ab_test = pd.concat([control_sample, treatment_sample], axis=0)\n",
    "ab_test.reset_index(drop=True, inplace=True)"
   ]
  },
  {
   "cell_type": "markdown",
   "metadata": {},
   "source": [
    "## EDA"
   ]
  },
  {
   "cell_type": "code",
   "execution_count": 7,
   "metadata": {},
   "outputs": [
    {
     "data": {
      "text/html": [
       "<div>\n",
       "<style scoped>\n",
       "    .dataframe tbody tr th:only-of-type {\n",
       "        vertical-align: middle;\n",
       "    }\n",
       "\n",
       "    .dataframe tbody tr th {\n",
       "        vertical-align: top;\n",
       "    }\n",
       "\n",
       "    .dataframe thead th {\n",
       "        text-align: right;\n",
       "    }\n",
       "</style>\n",
       "<table border=\"1\" class=\"dataframe\">\n",
       "  <thead>\n",
       "    <tr style=\"text-align: right;\">\n",
       "      <th></th>\n",
       "      <th>experiment_day</th>\n",
       "      <th>search_id</th>\n",
       "      <th>user_id</th>\n",
       "      <th>experiment_group</th>\n",
       "      <th>user_tier</th>\n",
       "      <th>query</th>\n",
       "      <th>media_types</th>\n",
       "      <th>num_elevations</th>\n",
       "      <th>num_clicks</th>\n",
       "      <th>num_exported_results</th>\n",
       "      <th>num_licenses</th>\n",
       "    </tr>\n",
       "  </thead>\n",
       "  <tbody>\n",
       "    <tr>\n",
       "      <th>0</th>\n",
       "      <td>65</td>\n",
       "      <td>AOGFabmo</td>\n",
       "      <td>51b2325a</td>\n",
       "      <td>control</td>\n",
       "      <td>free</td>\n",
       "      <td>speech bubble</td>\n",
       "      <td>RV</td>\n",
       "      <td>0</td>\n",
       "      <td>1</td>\n",
       "      <td>0</td>\n",
       "      <td>0</td>\n",
       "    </tr>\n",
       "    <tr>\n",
       "      <th>1</th>\n",
       "      <td>65</td>\n",
       "      <td>AMgr6dQc</td>\n",
       "      <td>d626988c</td>\n",
       "      <td>control</td>\n",
       "      <td>free</td>\n",
       "      <td>button</td>\n",
       "      <td>RV</td>\n",
       "      <td>0</td>\n",
       "      <td>1</td>\n",
       "      <td>0</td>\n",
       "      <td>0</td>\n",
       "    </tr>\n",
       "    <tr>\n",
       "      <th>2</th>\n",
       "      <td>65</td>\n",
       "      <td>WKgECNwN</td>\n",
       "      <td>8bcaf483</td>\n",
       "      <td>control</td>\n",
       "      <td>free</td>\n",
       "      <td>apple</td>\n",
       "      <td>RV</td>\n",
       "      <td>0</td>\n",
       "      <td>0</td>\n",
       "      <td>0</td>\n",
       "      <td>0</td>\n",
       "    </tr>\n",
       "    <tr>\n",
       "      <th>3</th>\n",
       "      <td>65</td>\n",
       "      <td>AJtAg_5K</td>\n",
       "      <td>972122eb</td>\n",
       "      <td>control</td>\n",
       "      <td>paid</td>\n",
       "      <td>line</td>\n",
       "      <td>RV</td>\n",
       "      <td>0</td>\n",
       "      <td>3</td>\n",
       "      <td>0</td>\n",
       "      <td>0</td>\n",
       "    </tr>\n",
       "    <tr>\n",
       "      <th>4</th>\n",
       "      <td>65</td>\n",
       "      <td>ANeptGYr</td>\n",
       "      <td>fb62dec1</td>\n",
       "      <td>control</td>\n",
       "      <td>free</td>\n",
       "      <td>square</td>\n",
       "      <td>RV</td>\n",
       "      <td>0</td>\n",
       "      <td>1</td>\n",
       "      <td>0</td>\n",
       "      <td>0</td>\n",
       "    </tr>\n",
       "  </tbody>\n",
       "</table>\n",
       "</div>"
      ],
      "text/plain": [
       "   experiment_day search_id   user_id experiment_group user_tier  \\\n",
       "0              65  AOGFabmo  51b2325a          control      free   \n",
       "1              65  AMgr6dQc  d626988c          control      free   \n",
       "2              65  WKgECNwN  8bcaf483          control      free   \n",
       "3              65  AJtAg_5K  972122eb          control      paid   \n",
       "4              65  ANeptGYr  fb62dec1          control      free   \n",
       "\n",
       "           query media_types  num_elevations  num_clicks  \\\n",
       "0  speech bubble          RV               0           1   \n",
       "1         button          RV               0           1   \n",
       "2          apple          RV               0           0   \n",
       "3           line          RV               0           3   \n",
       "4         square          RV               0           1   \n",
       "\n",
       "   num_exported_results  num_licenses  \n",
       "0                     0             0  \n",
       "1                     0             0  \n",
       "2                     0             0  \n",
       "3                     0             0  \n",
       "4                     0             0  "
      ]
     },
     "execution_count": 7,
     "metadata": {},
     "output_type": "execute_result"
    }
   ],
   "source": [
    "ab_test.head(5)"
   ]
  },
  {
   "cell_type": "markdown",
   "metadata": {},
   "source": [
    "**experiment_day** - numeric - 1-71 days, median: 35\n",
    "\n",
    "**search_id** - hashed ID, 1688375 searches\n",
    "\n",
    "**user_id** - hashed ID, one user has many searches, 560052 users \n",
    "\n",
    "**user_tier** - 70% free, 30% paid\n",
    "\n",
    "**query** - categories, there are more and less popular ones (arrow 7%, heart, line, instagram, flowers around 4%), 335 distinct \n",
    "\n",
    "**media_types** - RV is 99%, 3 categories, highly correlated with num_elevations\n",
    "\n",
    "**experiment_group** - highly correlated with num_elevations\n",
    "\n",
    "**num_elevations** - from 0 to 410, median 0, 50% zeros\n",
    "\n",
    "**num_clicks**, from 0 to 203, median 1, 45% zeros, highly correlated with num_exported_results\n",
    "\n",
    "**num_exported_results**, from 0 to 50, median 0, 72% zeros\n",
    "\n",
    "**num_licenses** - from 0 to 53, median 0, highly skewed, 97% zeros, highly correlated with num_exported_results "
   ]
  },
  {
   "cell_type": "code",
   "execution_count": 8,
   "metadata": {},
   "outputs": [
    {
     "data": {
      "text/plain": [
       "control      847614\n",
       "treatment    840701\n",
       "Name: experiment_group, dtype: int64"
      ]
     },
     "execution_count": 8,
     "metadata": {},
     "output_type": "execute_result"
    }
   ],
   "source": [
    "ab_test['experiment_group'].value_counts() #both groups are of similar size"
   ]
  },
  {
   "cell_type": "code",
   "execution_count": 9,
   "metadata": {},
   "outputs": [
    {
     "name": "stdout",
     "output_type": "stream",
     "text": [
      "                  click_rate  export_rate  license_rate\n",
      "experiment_group                                       \n",
      "control             1.132066     0.325828      0.033958\n",
      "treatment           1.071654     0.334107      0.029365\n"
     ]
    }
   ],
   "source": [
    "show_stats('experiment_group')  #control group has higher license_rate"
   ]
  },
  {
   "cell_type": "code",
   "execution_count": 10,
   "metadata": {},
   "outputs": [
    {
     "name": "stdout",
     "output_type": "stream",
     "text": [
      "           click_rate  export_rate  license_rate\n",
      "user_tier                                       \n",
      "paid         1.157110     0.342475      0.099675\n",
      "free         1.078233     0.324554      0.002371\n"
     ]
    }
   ],
   "source": [
    "show_stats('user_tier') #definitely higher license rate for pad tier"
   ]
  },
  {
   "cell_type": "code",
   "execution_count": 11,
   "metadata": {},
   "outputs": [
    {
     "name": "stdout",
     "output_type": "stream",
     "text": [
      "             click_rate  export_rate  license_rate\n",
      "media_types                                       \n",
      "V              1.252790     0.304694      0.084322\n",
      "RV             1.100285     0.330416      0.031532\n",
      "R              1.397396     0.235686      0.022193\n"
     ]
    }
   ],
   "source": [
    "show_stats('media_types') #V has highest license rate"
   ]
  },
  {
   "cell_type": "code",
   "execution_count": 12,
   "metadata": {},
   "outputs": [
    {
     "name": "stdout",
     "output_type": "stream",
     "text": [
      "               click_rate  export_rate  license_rate\n",
      "query                                               \n",
      "Medical icons    6.000000     1.000000      1.000000\n",
      "email            1.030783     0.446570      0.403474\n",
      "snowflake        1.881748     0.526992      0.334190\n",
      "Food Icon        0.666667     0.666667      0.333333\n",
      "vote             0.916515     0.281307      0.294918\n",
      "person           0.787596     0.314783      0.263806\n",
      "clock            0.963309     0.366592      0.253621\n",
      "sun              1.008888     0.345947      0.242796\n",
      "website          0.697439     0.242588      0.234501\n",
      "baby             1.097468     0.346835      0.230696\n"
     ]
    }
   ],
   "source": [
    "show_stats('query') #Medical icons, emails, snowflake and food have the highest license rate"
   ]
  },
  {
   "cell_type": "code",
   "execution_count": 13,
   "metadata": {},
   "outputs": [
    {
     "data": {
      "text/plain": [
       "query\n",
       "Medical icons                      1\n",
       " vintage                           1\n",
       "hospitality icons                  1\n",
       "School icons                       1\n",
       "School icon                        1\n",
       "Music icons                        1\n",
       "Music Icons                        1\n",
       "Music Icon                         1\n",
       "Free photo                         1\n",
       "Health icon                        1\n",
       "Gradients                          2\n",
       "Graph                              2\n",
       " brand:BABCTFGu9Rg^100 tropical    2\n",
       "Lifestyle                          2\n",
       "Food icons                         2\n",
       "Happy New Year                     2\n",
       "Charts                             2\n",
       "Social media icon                  2\n",
       "Graphs                             3\n",
       "Landscapes                         3\n",
       "Music icon                         3\n",
       "Illustration                       3\n",
       "Valentines Day                     3\n",
       "Tombstone                          4\n",
       "Food Icon                          6\n",
       "web wireframes                     6\n",
       "Valentines day                     6\n",
       "space icons                        7\n",
       "Transportation                     7\n",
       "Valentine                          8\n",
       "Name: query, dtype: int64"
      ]
     },
     "execution_count": 13,
     "metadata": {},
     "output_type": "execute_result"
    }
   ],
   "source": [
    "ab_test.groupby('query')['query'].count().sort_values(ascending=True).head(30)\n",
    "#for the extended analysis, the key words should be cleaned (whitespaces,errors,signs,small vs big letters)"
   ]
  },
  {
   "cell_type": "code",
   "execution_count": 14,
   "metadata": {},
   "outputs": [
    {
     "data": {
      "text/plain": [
       "user_id\n",
       "73fda8af    65\n",
       "303ee6c4    58\n",
       "a112b0a0    56\n",
       "daf76cf8    52\n",
       "fd5e10ac    52\n",
       "Name: experiment_day, dtype: int64"
      ]
     },
     "execution_count": 14,
     "metadata": {},
     "output_type": "execute_result"
    }
   ],
   "source": [
    "ab_test.groupby(['user_id'])['experiment_day'].nunique().sort_values(ascending=False).head() \n",
    "#Some users were active almost everyday. What is their characteristics?"
   ]
  },
  {
   "cell_type": "code",
   "execution_count": 15,
   "metadata": {},
   "outputs": [
    {
     "data": {
      "image/png": "[encoded data removed]",
      "text/plain": [
       "<Figure size 576x432 with 1 Axes>"
      ]
     },
     "metadata": {},
     "output_type": "display_data"
    }
   ],
   "source": [
    "plt.figure(figsize=(8,6))\n",
    "\n",
    "sns.barplot(x=ab_test['experiment_group'], y=ab_test['num_licenses'], ci=False)\n",
    "\n",
    "plt.ylim(0, 0.05)\n",
    "plt.title('Conversion rate by group', pad=20)\n",
    "plt.xlabel('Group', labelpad=15)\n",
    "plt.ylabel('Converted (proportion)', labelpad=15);"
   ]
  },
  {
   "cell_type": "markdown",
   "metadata": {},
   "source": [
    "### Creating test dataset"
   ]
  },
  {
   "cell_type": "markdown",
   "metadata": {},
   "source": [
    "Creating dataset which will all samples having the same value for query (most popular - ARROW), user tier (FREE) and media type (MOST POPULAR - RV). \n",
    "This way the result of the test would not be influenced by these variables and we still keep sample big."
   ]
  },
  {
   "cell_type": "code",
   "execution_count": 16,
   "metadata": {},
   "outputs": [
    {
     "name": "stderr",
     "output_type": "stream",
     "text": [
      "/var/folders/7h/jhtspggj63166rh3c9ysbdnm0000gn/T/ipykernel_80458/1638000894.py:1: UserWarning: Boolean Series key will be reindexed to match DataFrame index.\n",
      "  test_free = ab_test[ab_test['query']=='arrow'][ab_test['user_tier']=='free'][ab_test['media_types']=='RV']\n",
      "/var/folders/7h/jhtspggj63166rh3c9ysbdnm0000gn/T/ipykernel_80458/1638000894.py:2: UserWarning: Boolean Series key will be reindexed to match DataFrame index.\n",
      "  test_premium = ab_test[ab_test['query']=='arrow'][ab_test['user_tier']=='paid'][ab_test['media_types']=='RV']\n"
     ]
    }
   ],
   "source": [
    "test_free = ab_test[ab_test['query']=='arrow'][ab_test['user_tier']=='free'][ab_test['media_types']=='RV'] \n",
    "test_premium = ab_test[ab_test['query']=='arrow'][ab_test['user_tier']=='paid'][ab_test['media_types']=='RV'] "
   ]
  },
  {
   "cell_type": "markdown",
   "metadata": {},
   "source": [
    "### Experimentation (Free tier)"
   ]
  },
  {
   "cell_type": "code",
   "execution_count": 17,
   "metadata": {},
   "outputs": [
    {
     "data": {
      "text/html": [
       "<style type=\"text/css\">\n",
       "</style>\n",
       "<table id=\"T_be00d_\">\n",
       "  <thead>\n",
       "    <tr>\n",
       "      <th class=\"blank level0\" >&nbsp;</th>\n",
       "      <th class=\"col_heading level0 col0\" >conversion_rate</th>\n",
       "      <th class=\"col_heading level0 col1\" >std_deviation</th>\n",
       "      <th class=\"col_heading level0 col2\" >std_error</th>\n",
       "    </tr>\n",
       "    <tr>\n",
       "      <th class=\"index_name level0\" >experiment_group</th>\n",
       "      <th class=\"blank col0\" >&nbsp;</th>\n",
       "      <th class=\"blank col1\" >&nbsp;</th>\n",
       "      <th class=\"blank col2\" >&nbsp;</th>\n",
       "    </tr>\n",
       "  </thead>\n",
       "  <tbody>\n",
       "    <tr>\n",
       "      <th id=\"T_be00d_level0_row0\" class=\"row_heading level0 row0\" >control</th>\n",
       "      <td id=\"T_be00d_row0_col0\" class=\"data row0 col0\" >0.005</td>\n",
       "      <td id=\"T_be00d_row0_col1\" class=\"data row0 col1\" >0.080</td>\n",
       "      <td id=\"T_be00d_row0_col2\" class=\"data row0 col2\" >0.000</td>\n",
       "    </tr>\n",
       "    <tr>\n",
       "      <th id=\"T_be00d_level0_row1\" class=\"row_heading level0 row1\" >treatment</th>\n",
       "      <td id=\"T_be00d_row1_col0\" class=\"data row1 col0\" >0.002</td>\n",
       "      <td id=\"T_be00d_row1_col1\" class=\"data row1 col1\" >0.049</td>\n",
       "      <td id=\"T_be00d_row1_col2\" class=\"data row1 col2\" >0.000</td>\n",
       "    </tr>\n",
       "  </tbody>\n",
       "</table>\n"
      ],
      "text/plain": [
       "<pandas.io.formats.style.Styler at 0x7fb8cb9d7640>"
      ]
     },
     "execution_count": 17,
     "metadata": {},
     "output_type": "execute_result"
    }
   ],
   "source": [
    "conversion_rates = test_free.groupby('experiment_group')['num_licenses']\n",
    "\n",
    "std_p = lambda x: np.std(x, ddof=0)              # Std. deviation of the proportion\n",
    "se_p = lambda x: stats.sem(x, ddof=0)            # Std. error of the proportion (std / sqrt(n))\n",
    "\n",
    "conversion_rates = conversion_rates.agg([np.mean, std_p, se_p])\n",
    "conversion_rates.columns = ['conversion_rate', 'std_deviation', 'std_error']\n",
    "\n",
    "conversion_rates.style.format('{:.3f}')"
   ]
  },
  {
   "cell_type": "code",
   "execution_count": 18,
   "metadata": {},
   "outputs": [
    {
     "name": "stdout",
     "output_type": "stream",
     "text": [
      "Percentage difference:  0.631\n"
     ]
    }
   ],
   "source": [
    "perc = (conversion_rates['conversion_rate'][0] - conversion_rates['conversion_rate'][1])/conversion_rates['conversion_rate'][0]\n",
    "print('Percentage difference: ', round(perc,3))"
   ]
  },
  {
   "cell_type": "markdown",
   "metadata": {},
   "source": [
    "Judging by the stats above, it does look like **control group performs better**, approx. **0.5% vs. 0.2%**."
   ]
  },
  {
   "cell_type": "markdown",
   "metadata": {},
   "source": [
    "Since we have a very large sample, we can use the normal approximation for calculating our $p$-value (i.e. z-test). \n"
   ]
  },
  {
   "cell_type": "code",
   "execution_count": 19,
   "metadata": {},
   "outputs": [
    {
     "name": "stdout",
     "output_type": "stream",
     "text": [
      "z statistic: 8.41\n",
      "p-value: 0.000\n",
      "ci 95% for control group: [0.005, 0.006]\n",
      "ci 95% for treatment group: [0.002, 0.002]\n"
     ]
    }
   ],
   "source": [
    "control_results = test_free[test_free['experiment_group'] == 'control']['num_licenses']\n",
    "treatment_results = test_free[test_free['experiment_group'] == 'treatment']['num_licenses']\n",
    "\n",
    "n_con = control_results.count()\n",
    "n_treat = treatment_results.count()\n",
    "successes = [control_results.sum(), treatment_results.sum()]\n",
    "nobs = [n_con, n_treat]\n",
    "\n",
    "z_stat, pval = proportions_ztest(successes, nobs=nobs)\n",
    "(lower_con, lower_treat), (upper_con, upper_treat) = proportion_confint(successes, nobs=nobs, alpha=0.05)\n",
    "\n",
    "print(f'z statistic: {z_stat:.2f}')\n",
    "print(f'p-value: {pval:.3f}')\n",
    "print(f'ci 95% for control group: [{lower_con:.3f}, {upper_con:.3f}]')\n",
    "print(f'ci 95% for treatment group: [{lower_treat:.3f}, {upper_treat:.3f}]')"
   ]
  },
  {
   "cell_type": "markdown",
   "metadata": {},
   "source": [
    "Since our $p$-value is below our $\\alpha$=0.05, we reject the null hypothesis $H_0$, which means that our new approach did perform significantly different \n",
    "\n",
    "Additionally, if we look at the confidence interval for the `treatment` group we notice that it is around 0.2%."
   ]
  },
  {
   "cell_type": "markdown",
   "metadata": {},
   "source": [
    "### Experimentation (Premium tier)"
   ]
  },
  {
   "cell_type": "code",
   "execution_count": 20,
   "metadata": {},
   "outputs": [
    {
     "data": {
      "text/html": [
       "<style type=\"text/css\">\n",
       "</style>\n",
       "<table id=\"T_c3843_\">\n",
       "  <thead>\n",
       "    <tr>\n",
       "      <th class=\"blank level0\" >&nbsp;</th>\n",
       "      <th class=\"col_heading level0 col0\" >conversion_rate</th>\n",
       "      <th class=\"col_heading level0 col1\" >std_deviation</th>\n",
       "      <th class=\"col_heading level0 col2\" >std_error</th>\n",
       "    </tr>\n",
       "    <tr>\n",
       "      <th class=\"index_name level0\" >experiment_group</th>\n",
       "      <th class=\"blank col0\" >&nbsp;</th>\n",
       "      <th class=\"blank col1\" >&nbsp;</th>\n",
       "      <th class=\"blank col2\" >&nbsp;</th>\n",
       "    </tr>\n",
       "  </thead>\n",
       "  <tbody>\n",
       "    <tr>\n",
       "      <th id=\"T_c3843_level0_row0\" class=\"row_heading level0 row0\" >control</th>\n",
       "      <td id=\"T_c3843_row0_col0\" class=\"data row0 col0\" >0.169</td>\n",
       "      <td id=\"T_c3843_row0_col1\" class=\"data row0 col1\" >0.461</td>\n",
       "      <td id=\"T_c3843_row0_col2\" class=\"data row0 col2\" >0.004</td>\n",
       "    </tr>\n",
       "    <tr>\n",
       "      <th id=\"T_c3843_level0_row1\" class=\"row_heading level0 row1\" >treatment</th>\n",
       "      <td id=\"T_c3843_row1_col0\" class=\"data row1 col0\" >0.074</td>\n",
       "      <td id=\"T_c3843_row1_col1\" class=\"data row1 col1\" >0.319</td>\n",
       "      <td id=\"T_c3843_row1_col2\" class=\"data row1 col2\" >0.003</td>\n",
       "    </tr>\n",
       "  </tbody>\n",
       "</table>\n"
      ],
      "text/plain": [
       "<pandas.io.formats.style.Styler at 0x7fb8b17d17f0>"
      ]
     },
     "execution_count": 20,
     "metadata": {},
     "output_type": "execute_result"
    }
   ],
   "source": [
    "conversion_rates = test_premium.groupby('experiment_group')['num_licenses']\n",
    "\n",
    "std_p = lambda x: np.std(x, ddof=0)              # Std. deviation of the proportion\n",
    "se_p = lambda x: stats.sem(x, ddof=0)            # Std. error of the proportion (std / sqrt(n))\n",
    "\n",
    "conversion_rates = conversion_rates.agg([np.mean, std_p, se_p])\n",
    "conversion_rates.columns = ['conversion_rate', 'std_deviation', 'std_error']\n",
    "\n",
    "conversion_rates.style.format('{:.3f}')"
   ]
  },
  {
   "cell_type": "code",
   "execution_count": 21,
   "metadata": {},
   "outputs": [
    {
     "name": "stdout",
     "output_type": "stream",
     "text": [
      "Percentage difference:  0.565\n"
     ]
    }
   ],
   "source": [
    "perc = (conversion_rates['conversion_rate'][0] - conversion_rates['conversion_rate'][1])/conversion_rates['conversion_rate'][0]\n",
    "print('Percentage difference: ', round(perc,3))"
   ]
  },
  {
   "cell_type": "markdown",
   "metadata": {},
   "source": [
    "Judging by the stats above, it does look like **control group performes much better**, approx. **17% vs. 7%**."
   ]
  },
  {
   "cell_type": "markdown",
   "metadata": {},
   "source": [
    "Since we have a very large sample, we can use the normal approximation for calculating our $p$-value (i.e. z-test). "
   ]
  },
  {
   "cell_type": "code",
   "execution_count": 22,
   "metadata": {},
   "outputs": [
    {
     "name": "stdout",
     "output_type": "stream",
     "text": [
      "z statistic: 26.24\n",
      "p-value: 0.000\n",
      "ci 95% for control group: [0.163, 0.175]\n",
      "ci 95% for treatment group: [0.069, 0.078]\n"
     ]
    }
   ],
   "source": [
    "control_results = test_premium[test_premium['experiment_group'] == 'control']['num_licenses']\n",
    "treatment_results = test_premium[test_premium['experiment_group'] == 'treatment']['num_licenses']\n",
    "\n",
    "n_con = control_results.count()\n",
    "n_treat = treatment_results.count()\n",
    "successes = [control_results.sum(), treatment_results.sum()]\n",
    "nobs = [n_con, n_treat]\n",
    "\n",
    "z_stat, pval = proportions_ztest(successes, nobs=nobs)\n",
    "(lower_con, lower_treat), (upper_con, upper_treat) = proportion_confint(successes, nobs=nobs, alpha=0.05)\n",
    "\n",
    "print(f'z statistic: {z_stat:.2f}')\n",
    "print(f'p-value: {pval:.3f}')\n",
    "print(f'ci 95% for control group: [{lower_con:.3f}, {upper_con:.3f}]')\n",
    "print(f'ci 95% for treatment group: [{lower_treat:.3f}, {upper_treat:.3f}]')"
   ]
  },
  {
   "cell_type": "markdown",
   "metadata": {},
   "source": [
    "Since our $p$-value is below our $\\alpha$=0.05, we reject the null hypothesis $H_0$, which means that our new approach did perform significantly different \n",
    "\n",
    "Additionally, if we look at the confidence interval for the `treatment` group we notice that it is around 7-8%."
   ]
  },
  {
   "cell_type": "markdown",
   "metadata": {},
   "source": [
    "### Ideas for the longer analysis:\n",
    "- Tree-based machine learning models to understand features better and try to predict customer value (amount of bought licenses) using demographics and usage behaviors\n",
    "- Customer segmentation using unsupervised models (customer clustering)\n",
    "- Trying Three-way Anova or Multifactorial Anova to understand each feature's importance and impact\n",
    "- Taking into account in the analysis: user's activity during the experimentation period (number of events, day by day, increasing or decreasing, influence of weekends and day time) and demographics data\n",
    "- Analysing characteristics of users which are very active (45-70 days of activity) versus medium active (20 - 44 days) to low activity (up to 19 days).\n",
    "- For the extended analysis, the key words should be cleaned (whitespaces,errors,signs,small vs big letters) and could be clustered into topics which could be analysed -> the most common topics, the best selling topics"
   ]
  },
  {
   "cell_type": "markdown",
   "metadata": {},
   "source": [
    "### Recommendations\n",
    "- Automated Elevations perform better, in the overall they have higher license rate. However, it would be worth checking the rate in detail looking at different queries and adapt the solution based of the situation.\n",
    "- Paid users have definitely higher license rate, most probably because they already find the service worth paying and they use the possibilities it gives. \n",
    "- There are some queries that have the highest license rate, like: medical icons, emails, snowflake and food. It might be worth to expand this topics more since they are popular among users who decide to pay for the license. "
   ]
  }
 ],
 "metadata": {
  "kernelspec": {
   "display_name": "Python 3",
   "language": "python",
   "name": "python3"
  },
  "language_info": {
   "codemirror_mode": {
    "name": "ipython",
    "version": 3
   },
   "file_extension": ".py",
   "mimetype": "text/x-python",
   "name": "python",
   "nbconvert_exporter": "python",
   "pygments_lexer": "ipython3",
   "version": "3.8.3"
  }
 },
 "nbformat": 4,
 "nbformat_minor": 4
}
