{
 "cells": [
  {
   "cell_type": "code",
   "execution_count": null,
   "metadata": {},
   "outputs": [],
   "source": [
    "import csv\n",
    "import json\n",
    "import os\n",
    "import os.path as path\n",
    "\n",
    "import pandas as pd\n",
    "\n",
    "up = path.abspath(path.join(\"json_to_csv.ipynb\", \"../../../..\"))"
   ]
  },
  {
   "cell_type": "code",
   "execution_count": null,
   "metadata": {},
   "outputs": [],
   "source": [
    "data_file = up + \"/mkortas/detect-waste/annotations/annotat.csv\"\n",
    "json_path = up + \"/TACO-master/data/annotations.json\"\n",
    "annot_folder = up + \"/mkortas/detect-waste/annotations/\""
   ]
  },
  {
   "cell_type": "code",
   "execution_count": null,
   "metadata": {},
   "outputs": [],
   "source": [
    "with open(json_path) as json_file:\n",
    "    data = json.load(json_file)"
   ]
  },
  {
   "cell_type": "code",
   "execution_count": null,
   "metadata": {},
   "outputs": [],
   "source": [
    "def export_data(data, dtype, file):\n",
    "    img = data[dtype]\n",
    "    data_file = open(file, \"w\")\n",
    "    csv_writer = csv.writer(data_file)\n",
    "    count = 0\n",
    "    for i in img:\n",
    "        if count == 0:\n",
    "            header = i.keys()\n",
    "            csv_writer.writerow(header)\n",
    "            count += 1\n",
    "        csv_writer.writerow(i.values())\n",
    "    data_file.close()"
   ]
  },
  {
   "cell_type": "code",
   "execution_count": null,
   "metadata": {},
   "outputs": [],
   "source": [
    "export_data(data, \"images\", os.path.join(annot_folder, \"data_file.csv\"))\n",
    "export_data(data, \"annotations\", os.path.join(annot_folder, \"data_file2.csv\"))\n",
    "export_data(data, \"categories\", os.path.join(annot_folder, \"data_file3.csv\"))"
   ]
  },
  {
   "cell_type": "code",
   "execution_count": null,
   "metadata": {},
   "outputs": [],
   "source": [
    "data3 = pd.read_csv(os.path.join(annot_folder, \"data_file3.csv\"))\n",
    "data2 = pd.read_csv(os.path.join(annot_folder, \"data_file2.csv\"))\n",
    "data = pd.read_csv(os.path.join(annot_folder, \"data_file.csv\"))"
   ]
  },
  {
   "cell_type": "code",
   "execution_count": null,
   "metadata": {},
   "outputs": [],
   "source": [
    "data = data.rename(columns={\"id\": \"image_id\"})\n",
    "data3 = data3.rename(columns={\"id\": \"category_id\"})\n",
    "data2 = data2.merge(data, on=\"image_id\", how=\"left\")\n",
    "data2 = data2.merge(data3, on=\"category_id\", how=\"left\")\n",
    "data2 = data2.rename(columns={\"supercategory\": \"class\"})\n",
    "data2 = data2.rename(columns={\"file_name\": \"filename\"})\n",
    "data2[\"bbox\"] = data2[\"bbox\"].map(lambda x: x.lstrip(\"[\").rstrip(\"]\"))\n",
    "data2[[\"xmin\", \"ymin\", \"xmax\", \"ymax\"]] = data2.bbox.str.split(\n",
    "    \",\",\n",
    "    expand=True,\n",
    ")"
   ]
  },
  {
   "cell_type": "code",
   "execution_count": null,
   "metadata": {},
   "outputs": [],
   "source": [
    "data2[\"xmax\"] = data2[\"xmax\"].astype(float) + data2[\"width\"].astype(float)\n",
    "data2[\"ymax\"] = data2[\"ymax\"].astype(float) + data2[\"height\"].astype(float)"
   ]
  },
  {
   "cell_type": "code",
   "execution_count": null,
   "metadata": {},
   "outputs": [],
   "source": [
    "# data2['flickr_url'] = data2['flickr_url'].map(lambda x: x[-48:])\n",
    "# data2['flickr_url'] = data2['flickr_url'].map(lambda x: x.replace('flickr.com/',''))\n",
    "# data2[['cos','path']] = data2.flickr_url.str.split(\"/\",expand=True,)\n",
    "# data2 = data2[['path','width','height','class','xmin','ymin','xmax','ymax']]\n",
    "# data2 = data2.rename(columns={\"path\": \"filename\"})"
   ]
  },
  {
   "cell_type": "code",
   "execution_count": null,
   "metadata": {},
   "outputs": [],
   "source": [
    "data2 = data2[[\"filename\", \"width\", \"height\", \"class\", \"xmin\", \"ymin\", \"xmax\", \"ymax\"]]\n",
    "data2.to_csv(data_file, index=False)"
   ]
  }
 ],
 "metadata": {
  "kernelspec": {
   "display_name": "Python 3 (ipykernel)",
   "language": "python",
   "name": "python3"
  },
  "language_info": {
   "codemirror_mode": {
    "name": "ipython",
    "version": 3
   },
   "file_extension": ".py",
   "mimetype": "text/x-python",
   "name": "python",
   "nbconvert_exporter": "python",
   "pygments_lexer": "ipython3",
   "version": "3.9.9"
  },
  "widgets": {
   "application/vnd.jupyter.widget-state+json": {
    "state": {},
    "version_major": 2,
    "version_minor": 0
   }
  }
 },
 "nbformat": 4,
 "nbformat_minor": 4
}
